{
 "cells": [
  {
   "cell_type": "code",
   "execution_count": 8,
   "metadata": {},
   "outputs": [],
   "source": [
    "import datetime as dt\n",
    "from dateutil.relativedelta import relativedelta\n",
    "import os\n",
    "import pandas as pd \n",
    "import pandas_datareader as pdr \n",
    "import numpy as np \n",
    "import quantstats as qs \n",
    "import webbrowser as web \n",
    "import yfinance as yf"
   ]
  },
  {
   "cell_type": "code",
   "execution_count": 36,
   "metadata": {},
   "outputs": [],
   "source": [
    "def sma_cross_strategy(ticker, slow=200, fast=50, end=None, period=3):\n",
    "    if not end:\n",
    "        end = dt.date.today()\n",
    "    start = end - relativedelta(years=period)\n",
    "\n",
    "    data = pd.DataFrame(yf.download(ticker, start=start, end=end)[\"Close\"]) # Get Close price and store in dataframe\n",
    "    data[f'{fast}-day'] = data.Close.rolling(fast).mean()\n",
    "    data[f'{slow}-day'] = data.Close.rolling(slow).mean()\n",
    "    data['returns'] = np.log(data.Close).diff()\n",
    "    data['strategy'] = np.where(data[f'{fast}-day'] > data[f'{slow}-day'], 1, 0) # Long when fast closes above slow \n",
    "    data['strategy'] = np.where(data[f'{fast}-day'] < data[f'{slow}-day'], -1, data['strategy']) # Short when fast closes below slow\n",
    "    strategy = data['returns'] * data['strategy']\n",
    "\n",
    "    return strategy\n"
   ]
  },
  {
   "cell_type": "code",
   "execution_count": 41,
   "metadata": {},
   "outputs": [
    {
     "name": "stdout",
     "output_type": "stream",
     "text": [
      "[*********************100%%**********************]  1 of 1 completed\n",
      "[*********************100%%**********************]  1 of 1 completed\n"
     ]
    }
   ],
   "source": [
    "# Example gold investment\n",
    "gld_cross = sma_cross_strategy(\"GLD\", slow=21, fast=9, period=3)\n",
    "gld_cross.index = gld_cross.index.tz_localize(None)\n",
    "gld = qs.utils.download_returns(\"GLD\", period='3y')\n",
    "gld.index = gld.index.tz_localize(None)"
   ]
  },
  {
   "cell_type": "code",
   "execution_count": 42,
   "metadata": {},
   "outputs": [
    {
     "name": "stderr",
     "output_type": "stream",
     "text": [
      "d:\\Python311\\Lib\\site-packages\\numpy\\core\\fromnumeric.py:84: FutureWarning: The behavior of DataFrame.prod with axis=None is deprecated, in a future version this will reduce over both axes and return a scalar. To retain the old behavior, pass axis=0 (or do not pass axis)\n",
      "  return reduction(axis=axis, out=out, **passkwargs)\n",
      "d:\\Python311\\Lib\\site-packages\\numpy\\core\\fromnumeric.py:84: FutureWarning: The behavior of DataFrame.prod with axis=None is deprecated, in a future version this will reduce over both axes and return a scalar. To retain the old behavior, pass axis=0 (or do not pass axis)\n",
      "  return reduction(axis=axis, out=out, **passkwargs)\n",
      "d:\\Python311\\Lib\\site-packages\\numpy\\core\\fromnumeric.py:84: FutureWarning: The behavior of DataFrame.prod with axis=None is deprecated, in a future version this will reduce over both axes and return a scalar. To retain the old behavior, pass axis=0 (or do not pass axis)\n",
      "  return reduction(axis=axis, out=out, **passkwargs)\n"
     ]
    },
    {
     "data": {
      "text/plain": [
       "True"
      ]
     },
     "execution_count": 42,
     "metadata": {},
     "output_type": "execute_result"
    }
   ],
   "source": [
    "qs.extend_pandas()\n",
    "\n",
    "qs.reports.html(gld_cross, gld, output=\"gld_cross.html\",\n",
    "                download_filename=\"gld_cross.html\")\n",
    "web.open_new(f\"file:///{os.getcwd()}/gld_cross.html\")"
   ]
  }
 ],
 "metadata": {
  "kernelspec": {
   "display_name": "Python 3",
   "language": "python",
   "name": "python3"
  },
  "language_info": {
   "codemirror_mode": {
    "name": "ipython",
    "version": 3
   },
   "file_extension": ".py",
   "mimetype": "text/x-python",
   "name": "python",
   "nbconvert_exporter": "python",
   "pygments_lexer": "ipython3",
   "version": "3.11.2"
  }
 },
 "nbformat": 4,
 "nbformat_minor": 2
}
