{
 "cells": [
  {
   "cell_type": "markdown",
   "metadata": {},
   "source": [
    "This simulates a stock's price using Geometric Brownian Motion, and then prices an Asian and Barrier option using Monte Carlo simulations with varying path lengths."
   ]
  },
  {
   "cell_type": "code",
   "execution_count": 1,
   "metadata": {},
   "outputs": [],
   "source": [
    "import numpy as np\n",
    "import time\n",
    "import matplotlib.pyplot as plt"
   ]
  },
  {
   "cell_type": "code",
   "execution_count": 2,
   "metadata": {},
   "outputs": [],
   "source": [
    "def simulate_stock_prices(S0, r, sigma, T, dt, paths):\n",
    "    \"\"\"Simulate stock prices using Geometric Brownian Motion.\"\"\"\n",
    "    \n",
    "    steps = int(T / dt)\n",
    "    dt = T / steps\n",
    "    prices = np.zeros((steps + 1, paths))\n",
    "    prices[0] = S0\n",
    "    for t in range(1, steps + 1):\n",
    "        z = np.random.standard_normal(paths)\n",
    "        prices[t] = prices[t - 1] * np.exp((r - 0.5 * sigma ** 2) * dt + sigma * np.sqrt(dt) * z)\n",
    "    return prices\n"
   ]
  },
  {
   "cell_type": "code",
   "execution_count": 3,
   "metadata": {},
   "outputs": [],
   "source": [
    "def price_asian_option(S, K, r, T, option_type='call'):\n",
    "    \"\"\"Price an Asian option using Monte Carlo simulation.\"\"\"\n",
    "\n",
    "    avg_prices = np.mean(S, axis=0)\n",
    "    if option_type == 'call': # Estimated option price\n",
    "        payoffs = np.exp(-r * T) * np.maximum(avg_prices - K, 0)\n",
    "    else:\n",
    "        payoffs = np.exp(-r * T) * np.maximum(K - avg_prices, 0)\n",
    "    return np.mean(payoffs)\n",
    "\n",
    "def price_barrier_option(S, K, r, T, B, option_type='call', barrier_type='up-and-out'):\n",
    "    \"\"\"Price a Barrier option using Monte Carlo simulation.\"\"\"\n",
    "\n",
    "    if barrier_type == 'up-and-out':\n",
    "        knocked_out = np.max(S, axis=0) > B\n",
    "    else:  # 'down-and-out'\n",
    "        knocked_out = np.min(S, axis=0) < B\n",
    "    \n",
    "    final_prices = S[-1]\n",
    "    if option_type == 'call': # Estimated option price\n",
    "        payoffs = np.where(knocked_out, 0, np.exp(-r * T) * np.maximum(final_prices - K, 0))\n",
    "    else:\n",
    "        payoffs = np.where(knocked_out, 0, np.exp(-r * T) * np.maximum(K - final_prices, 0))\n",
    "    \n",
    "    return np.mean(payoffs)\n"
   ]
  },
  {
   "cell_type": "code",
   "execution_count": 11,
   "metadata": {},
   "outputs": [
    {
     "name": "stdout",
     "output_type": "stream",
     "text": [
      "Paths: 1000, Asian Option Price: 3.5739, Barrier Option Price: 0.0192, Time: 0.02 seconds\n",
      "Paths: 5000, Asian Option Price: 3.5153, Barrier Option Price: 0.0253, Time: 0.05 seconds\n",
      "Paths: 10000, Asian Option Price: 3.5004, Barrier Option Price: 0.0183, Time: 0.11 seconds\n"
     ]
    }
   ],
   "source": [
    "# Define parameters\n",
    "S0 = 100  # Initial stock price\n",
    "K = 105  # Strike price\n",
    "B = 110  # Barrier level\n",
    "r = 0.05  # Risk-free rate\n",
    "sigma = 0.2  # Volatility\n",
    "T = 1  # Time to maturity (in years)\n",
    "dt = 1/252  # Daily time step\n",
    "paths_list = [1000, 5000, 10000]  # Different numbers of paths to simulate\n",
    "\n",
    "for paths in paths_list:\n",
    "    start_time = time.time()\n",
    "    S = simulate_stock_prices(S0, r, sigma, T, dt, paths)\n",
    "    asian_price = price_asian_option(S, K, r, T)\n",
    "    barrier_price = price_barrier_option(S, K, r, T, B)\n",
    "    end_time = time.time()\n",
    "    \n",
    "    print(f\"Paths: {paths}, Asian Option Price: {asian_price:.4f}, Barrier Option Price: {barrier_price:.4f}, Time: {end_time - start_time:.2f} seconds\")\n"
   ]
  }
 ],
 "metadata": {
  "kernelspec": {
   "display_name": "Python 3",
   "language": "python",
   "name": "python3"
  },
  "language_info": {
   "codemirror_mode": {
    "name": "ipython",
    "version": 3
   },
   "file_extension": ".py",
   "mimetype": "text/x-python",
   "name": "python",
   "nbconvert_exporter": "python",
   "pygments_lexer": "ipython3",
   "version": "3.11.2"
  }
 },
 "nbformat": 4,
 "nbformat_minor": 2
}
