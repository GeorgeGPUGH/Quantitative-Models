{
 "cells": [
  {
   "cell_type": "markdown",
   "metadata": {},
   "source": [
    "This simulates a stock's price using Geometric Brownian Motion, and then prices an Asian and Barrier option using Monte Carlo simulations with varying path lengths.\n",
    "\n",
    "**Asian Options**\n",
    "\n",
    "Asian options are a type of exotic option where the payoff depends on the average price of the underlying asset over a certain period of time, rather than its price at a single point in time. This averaging feature makes Asian options less susceptible to market manipulation and reduces volatility. There are primarily two types of Asian options: the average price option, where the payoff depends on the average price of the underlying asset, and the average strike option, where the strike price is the average price of the underlying asset over the term of the option.\n",
    "\n",
    "The payoff of an average price Asian call option can be represented as follows:\n",
    "\n",
    "$$\n",
    "\\text{Payoff} = \\text{max}\\left(0, \\frac{1}{T}\\sum\\nolimits_{t=1}^{T}S_{t} - K\\right)\n",
    "$$\n",
    "\n",
    "Where $S_t$ is the price of the underlying asset at time $t$, $K$ is the strike price, and $T$ is the total period over which the average is calculated.\n",
    "\n",
    "**Barrier Options**\n",
    "\n",
    "Barrier options are exotic options that become activated or extinguished when the price of the underlying asset crosses a certain barrier level. These options can be classified into two main categories: knock-in options, which come into existence when the barrier is breached, and knock-out options, which are extinguished when the barrier is breached. The barrier can be set either above or below the current price of the underlying asset, leading to further subdivisions like up-and-in, up-and-out, down-and-in, and down-and-out options.\n",
    "\n",
    "The payoff of a simple up-and-out call barrier option can be represented as:\n",
    "\n",
    "$$\n",
    "\\text{Payoff} = \n",
    "\\begin{cases} \n",
    "0 & \\text{if }{S_{T} \\ge B} \\text{ at any time before expiry}\\\\\n",
    "max(S_{T} - K,0) & \\text{otherwise}\n",
    "\\end{cases}\n",
    "$$\n",
    "\n",
    "Where $S_T$ is the price of the underlying asset at maturity, $K$ is the strike price, and $B$ is the barrier level.\n",
    "\n",
    "**Pricing Using Monte Carlo Simulations**\n",
    "\n",
    "Monte Carlo simulations can be used to price both Asian and barrier options by simulating a large number of paths for the underlying asset's price movement, calculating the payoff for each path, and then averaging these payoffs. The steps for pricing these options using Monte Carlo simulations typically include:\n",
    "\n",
    "Simulating Price Paths: Generate multiple paths for the price of the underlying asset using a stochastic process, such as the Geometric Brownian Motion (GBM), defined by: $dS_{t} = \\mu S_{t} dt + \\sigma S_{t} dW_{t}$\n",
    " \n",
    "where $dS_t$ is the change in asset price, $\\mu$ is the drift, $\\sigma$ is the volatility, and $dW_t$ is the Wiener process.\n",
    "\n",
    "Calculating Payoffs: For each simulated path, calculate the option's payoff based on its specific conditions (e.g., average price for Asian options, checking for barrier breaches for barrier options).\n",
    "\n",
    "Averaging Payoffs: Calculate the average of all the simulated payoffs to get an estimate of the option's price.\n",
    "\n",
    "Discounting: Discount the average payoff back to present value using the risk-free rate to get the option's fair price.\n"
   ]
  },
  {
   "cell_type": "code",
   "execution_count": 20,
   "metadata": {},
   "outputs": [],
   "source": [
    "import numpy as np\n",
    "import time\n",
    "import matplotlib.pyplot as plt\n",
    "import yfinance as yf\n",
    "import datetime as dt\n",
    "import pandas as pd\n",
    "from dateutil.relativedelta import relativedelta"
   ]
  },
  {
   "cell_type": "code",
   "execution_count": 21,
   "metadata": {},
   "outputs": [],
   "source": [
    "def simulate_stock_prices(S0, r, sigma, T, dt, paths):\n",
    "    \"\"\"Simulate stock prices using Geometric Brownian Motion.\"\"\"\n",
    "    \n",
    "    steps = int(T / dt)\n",
    "    dt = T / steps\n",
    "    prices = np.zeros((steps + 1, paths))\n",
    "    prices[0] = S0\n",
    "    for t in range(1, steps + 1):\n",
    "        z = np.random.standard_normal(paths)\n",
    "        prices[t] = prices[t - 1] * np.exp((r - 0.5 * sigma ** 2) * dt + sigma * np.sqrt(dt) * z)\n",
    "    return prices\n"
   ]
  },
  {
   "cell_type": "code",
   "execution_count": 22,
   "metadata": {},
   "outputs": [],
   "source": [
    "def price_asian_option(S, K, r, T, option_type='call'):\n",
    "    \"\"\"Price an Asian option using Monte Carlo simulation.\"\"\"\n",
    "\n",
    "    avg_prices = np.mean(S, axis=0)\n",
    "    if option_type == 'call': # Estimated option price\n",
    "        payoffs = np.exp(-r * T) * np.maximum(avg_prices - K, 0)\n",
    "    else:\n",
    "        payoffs = np.exp(-r * T) * np.maximum(K - avg_prices, 0)\n",
    "    return np.mean(payoffs)\n",
    "\n",
    "def price_barrier_option(S, K, r, T, B, option_type='call', barrier_type='up-and-out'):\n",
    "    \"\"\"Price a Barrier option using Monte Carlo simulation.\"\"\"\n",
    "\n",
    "    if barrier_type == 'up-and-out':\n",
    "        knocked_out = np.max(S, axis=0) > B\n",
    "    else:  # 'down-and-out'\n",
    "        knocked_out = np.min(S, axis=0) < B\n",
    "    \n",
    "    final_prices = S[-1]\n",
    "    if option_type == 'call': # Estimated option price\n",
    "        payoffs = np.where(knocked_out, 0, np.exp(-r * T) * np.maximum(final_prices - K, 0))\n",
    "    else:\n",
    "        payoffs = np.where(knocked_out, 0, np.exp(-r * T) * np.maximum(K - final_prices, 0))\n",
    "    \n",
    "    return np.mean(payoffs)\n"
   ]
  },
  {
   "cell_type": "code",
   "execution_count": null,
   "metadata": {},
   "outputs": [],
   "source": [
    "# Define parameters for testing (Use cell below for specific ticker)\n",
    "S0 = 100  # Initial stock price\n",
    "K = 105  # Strike price\n",
    "B = 110  # Barrier level\n",
    "r = 0.055  # Risk-free rate\n",
    "sigma = 0.2  # Volatility"
   ]
  },
  {
   "cell_type": "code",
   "execution_count": 23,
   "metadata": {},
   "outputs": [],
   "source": [
    "ticker = \"TSLA\" # Ticker\n",
    "r = 0.055 # Risk-free rate (US Treasury Interest Rate)\n",
    "\n",
    "end_date = dt.date.today()\n",
    "start_date = end_date - relativedelta(years=1)\n",
    "\n",
    "ticker = yf.Ticker(ticker)\n",
    "try:\n",
    "    stock_data = ticker.history(start=start_date, end=end_date, auto_adjust=False, actions=False)\n",
    "    stock_data = stock_data.sort_index(ascending=False)\n",
    "except Exception as e:\n",
    "    print(f\"Error fetching stock data: {e}\")\n",
    "    stock_data = pd.DataFrame()\n",
    "\n",
    "stock_data['Daily Returns'] = stock_data['Close'].pct_change() # Calculate daily returns\n",
    "\n",
    "daily_volatility = stock_data['Daily Returns'].std() # Calculate daily volatility (standard deviation of daily returns)\n",
    "\n",
    "sigma = daily_volatility * np.sqrt(252) # Annualised volatility (252 trading days)\n",
    "\n",
    "S0 = stock_data['Close'].iloc[0] # Fetch latest close price for S0\n",
    "\n",
    "K = 150 # Strike Price\n",
    "\n",
    "B = 180 # Barrier level\n"
   ]
  },
  {
   "cell_type": "code",
   "execution_count": 24,
   "metadata": {},
   "outputs": [
    {
     "name": "stdout",
     "output_type": "stream",
     "text": [
      "Paths: 50000, Asian Option Price: 36.1404, Barrier Option Price: 0.0537, Time: 0.56 seconds\n",
      "Paths: 100000, Asian Option Price: 36.3389, Barrier Option Price: 0.0474, Time: 0.95 seconds\n",
      "Paths: 500000, Asian Option Price: 36.0999, Barrier Option Price: 0.0488, Time: 6.21 seconds\n",
      "Paths: 1000000, Asian Option Price: 36.1530, Barrier Option Price: 0.0494, Time: 15.05 seconds\n"
     ]
    }
   ],
   "source": [
    "T = 1  # Time to maturity (in years)\n",
    "dt = 1/252  # Daily time step\n",
    "paths_list = [50000, 100000, 500000, 1000000]  # Different numbers of paths to simulate\n",
    "\n",
    "for paths in paths_list:\n",
    "    start_time = time.time()\n",
    "    S = simulate_stock_prices(S0, r, sigma, T, dt, paths)\n",
    "    asian_price = price_asian_option(S, K, r, T)\n",
    "    barrier_price = price_barrier_option(S, K, r, T, B, barrier_type=\"up-and-out\")\n",
    "    end_time = time.time()\n",
    "    \n",
    "    print(f\"Paths: {paths}, Asian Option Price: {asian_price:.4f}, Barrier Option Price: {barrier_price:.4f}, Time: {end_time - start_time:.2f} seconds\")\n"
   ]
  }
 ],
 "metadata": {
  "kernelspec": {
   "display_name": "Python 3",
   "language": "python",
   "name": "python3"
  },
  "language_info": {
   "codemirror_mode": {
    "name": "ipython",
    "version": 3
   },
   "file_extension": ".py",
   "mimetype": "text/x-python",
   "name": "python",
   "nbconvert_exporter": "python",
   "pygments_lexer": "ipython3",
   "version": "3.11.2"
  }
 },
 "nbformat": 4,
 "nbformat_minor": 2
}
