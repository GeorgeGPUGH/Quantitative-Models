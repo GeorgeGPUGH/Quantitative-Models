{
 "cells": [
  {
   "cell_type": "markdown",
   "metadata": {},
   "source": [
    "This code compares the estimated price of an option when calculated using a Multi-Step Binomial Tree model and Black-Scholes, comparing the accuracy of the Binomial method against that of the Black-Scholes."
   ]
  },
  {
   "cell_type": "code",
   "execution_count": 3,
   "metadata": {},
   "outputs": [],
   "source": [
    "from scipy.stats import norm\n",
    "import numpy as np"
   ]
  },
  {
   "cell_type": "code",
   "execution_count": 4,
   "metadata": {},
   "outputs": [],
   "source": [
    "# Multi-step Binomial Tree Model\n",
    "def binomial_tree_call_option(S0, K, T, r, sigma, N):\n",
    "    dt = T / N  # Time step\n",
    "    u = np.exp(sigma * np.sqrt(dt)) # Up factor\n",
    "    d = 1 / u # Down factor\n",
    "    p = (np.exp(r * dt) - d) / (u - d) # Risk-neutral probability\n",
    "    \n",
    "    # Initialise option value at maturity\n",
    "    option_values = np.array([max(0, S0 * (u ** j) * (d ** (N - j)) - K) for j in range(N + 1)])\n",
    "    \n",
    "    # Backward induction\n",
    "    for i in range(N - 1, -1, -1):\n",
    "        option_values = np.exp(-r * dt) * (p * option_values[1:] + (1 - p) * option_values[:-1])\n",
    "    \n",
    "    return option_values[0]"
   ]
  },
  {
   "cell_type": "code",
   "execution_count": 5,
   "metadata": {},
   "outputs": [],
   "source": [
    "# Black-Scholes Model for European Call Option\n",
    "def black_scholes_call(S0, K, T, r, sigma):\n",
    "    d1 = (np.log(S0 / K) + (r + 0.5 * sigma ** 2) * T) / (sigma * np.sqrt(T))\n",
    "    d2 = d1 - sigma * np.sqrt(T)\n",
    "    call_price = S0 * norm.cdf(d1) - K * np.exp(-r * T) * norm.cdf(d2)\n",
    "    return call_price"
   ]
  },
  {
   "cell_type": "code",
   "execution_count": 18,
   "metadata": {},
   "outputs": [
    {
     "name": "stdout",
     "output_type": "stream",
     "text": [
      "Binomial Call Price (3 steps): 11.043871091951113\n",
      "Binomial Call Price (10 steps): 10.25340904487193\n",
      "Binomial Call Price (1000 steps): 10.448584103764572\n",
      "Binomial Call Price (10000 steps): 10.450383602854469\n",
      "Black-Scholes Call Price: 10.450583572185565\n"
     ]
    }
   ],
   "source": [
    "# Parameters\n",
    "S0 = 100  # Initial stock price\n",
    "K = 100   # Strike price\n",
    "T = 1     # Time to maturity in years\n",
    "r = 0.05  # Risk-free rate\n",
    "sigma = 0.20  # Volatility\n",
    "N_range = [3, 10, 1000, 10000]  # Number of steps for the binomial tree model\n",
    "\n",
    "# Calculate option prices\n",
    "for N in N_range:\n",
    "    binomial_call_price = binomial_tree_call_option(S0, K, T, r, sigma, N)\n",
    "    print(f\"Binomial Call Price ({N} steps): {binomial_call_price}\")\n",
    "\n",
    "black_scholes_call_price = black_scholes_call(S0, K, T, r, sigma)\n",
    "\n",
    "\n",
    "print(f\"Black-Scholes Call Price: {black_scholes_call_price}\")\n",
    "\n",
    "# The difference in prices can be attributed to the discrete nature of the binomial and the continuous nature of Black-Scholes.\n",
    "# As such, as N increases, the prices will gradually converge."
   ]
  }
 ],
 "metadata": {
  "kernelspec": {
   "display_name": "Python 3",
   "language": "python",
   "name": "python3"
  },
  "language_info": {
   "codemirror_mode": {
    "name": "ipython",
    "version": 3
   },
   "file_extension": ".py",
   "mimetype": "text/x-python",
   "name": "python",
   "nbconvert_exporter": "python",
   "pygments_lexer": "ipython3",
   "version": "3.11.2"
  }
 },
 "nbformat": 4,
 "nbformat_minor": 2
}
